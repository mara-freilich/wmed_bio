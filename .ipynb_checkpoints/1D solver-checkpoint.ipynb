{
 "cells": [
  {
   "cell_type": "code",
   "execution_count": 1,
   "metadata": {},
   "outputs": [],
   "source": [
    "import numpy as np\n",
    "import matplotlib.pyplot as plt\n",
    "from function_definitions import *"
   ]
  },
  {
   "cell_type": "code",
   "execution_count": 68,
   "metadata": {},
   "outputs": [],
   "source": [
    "def finite_difference(kappa,dz,N0):\n",
    "    '''Set up the arrays for 1D finite difference solver\n",
    "    Uses a Dirichlet bottom boundary condition and a Neumann surface \n",
    "    condition (to model nutrients entering from ocean bottom)\n",
    "    \n",
    "    Inputs:\n",
    "    kappa:           float: diffusivity\n",
    "    dz:              float: grid spacing\n",
    "    N0:               float: bottom boundary value\n",
    "    \n",
    "    Output:\n",
    "    A:      numpy array: left-hand side \n",
    "    b:      numpy array: right-hand side\n",
    "    '''\n",
    "    \n",
    "    d1 = -(kappa[:-1] + kappa[1:]) # diagonal entries\n",
    "    d1 = np.append(-kappa[0],d1)\n",
    "    \n",
    "    A = (1/dz**2)*(np.diag(d1)+np.diag(kappa[:-1],1)+np.diag(kappa[:-1],-1))\n",
    "    b = np.zeros(kappa.shape)\n",
    "    b[-1] = b[-1]-N0*(kappa[-1]/dz**2)\n",
    "\n",
    "    return A, b\n",
    "\n",
    "def diffusion(kappa,dz,dt,N0,N):\n",
    "    '''Solve diffusion equation in 1D using forward Euler time stepping\n",
    "    \n",
    "    Inputs:\n",
    "    kappa:           float: diffusivity\n",
    "    dz:              float: grid spacing\n",
    "    dt:              float: time step\n",
    "    N0:              float: bottom boundary value of nutrient\n",
    "    N:               float: array of values at current time-step\n",
    "    \n",
    "    Output:\n",
    "    Nj:              float: array of values at next time-step\n",
    "    '''\n",
    "    Nj = N\n",
    "    d = kappa*dt/dz**2\n",
    "    for t in np.arange(nt):\n",
    "        # Compute arrays for diffusion\n",
    "        Njp1 = np.append(Nj[1:],N0) # Dirichlet boundary condition (fixed value)\n",
    "        Njm1 = np.append(Nj[0],Nj[:-1]) # Neumann boundary condition (no-flux)\n",
    "        # Time stepping\n",
    "        Nj = d*Njp1+(1-2*d)*Nj+d*Njm1\n",
    "    \n",
    "    return Nj"
   ]
  },
  {
   "cell_type": "code",
   "execution_count": 89,
   "metadata": {},
   "outputs": [],
   "source": [
    "H = -1; # depth of water (1 = non-dimensional)\n",
    "K = 20; # number of grid points\n",
    "grid = np.linspace(0,H,K) # grid array\n",
    "kappa = 0.01 # diffusivity value\n",
    "dz = H/(K-1); # calculate grid spacing\n",
    "N0 = 1; # bottom boundary condition on nutrient\n",
    "N = np.zeros(grid.shape) # initial condition\n",
    "Nsave = [N] # save initial condition\n",
    "dt = 0.01 # time step\n",
    "nt = 50 # number of time steps\n",
    "time = np.arange(nt+1)*dt\n",
    "for t in np.arange(nt):\n",
    "    N = diffusion(kappa,dz,dt,N0,N)\n",
    "    Nsave = np.concatenate((Nsave,[N]),axis = 0)"
   ]
  },
  {
   "cell_type": "code",
   "execution_count": 91,
   "metadata": {},
   "outputs": [
    {
     "data": {
      "text/plain": [
       "Text(0, 0.5, 'depth of water column')"
      ]
     },
     "execution_count": 91,
     "metadata": {},
     "output_type": "execute_result"
    },
    {
     "data": {
      "image/png": "[encoded data removed]",
      "text/plain": [
       "<Figure size 432x288 with 1 Axes>"
      ]
     },
     "metadata": {
      "needs_background": "light"
     },
     "output_type": "display_data"
    }
   ],
   "source": [
    "plt.pcolor(time,grid,Nsave.T)\n",
    "plt.xlabel('time in days')\n",
    "plt.ylabel('depth of water column')"
   ]
  },
  {
   "cell_type": "code",
   "execution_count": null,
   "metadata": {},
   "outputs": [],
   "source": []
  }
 ],
 "metadata": {
  "kernelspec": {
   "display_name": "Python 3",
   "language": "python",
   "name": "python3"
  },
  "language_info": {
   "codemirror_mode": {
    "name": "ipython",
    "version": 3
   },
   "file_extension": ".py",
   "mimetype": "text/x-python",
   "name": "python",
   "nbconvert_exporter": "python",
   "pygments_lexer": "ipython3",
   "version": "3.7.3"
  }
 },
 "nbformat": 4,
 "nbformat_minor": 2
}
